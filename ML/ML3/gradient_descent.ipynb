{
 "cells": [
  {
   "cell_type": "code",
   "execution_count": 1,
   "metadata": {},
   "outputs": [],
   "source": [
    "import numpy as np\n",
    "import pandas as pd\n",
    "from sklearn import linear_model"
   ]
  },
  {
   "cell_type": "code",
   "execution_count": null,
   "metadata": {},
   "outputs": [],
   "source": [
    "def gradient_descent(x,y):\n",
    "    m_curr = b_curr = 0\n",
    "    iteration = 10000\n",
    "    n = len(x)\n",
    "    learning_rate= 0.08\n",
    "    for i in range(iteration):\n",
    "        y_predicted = m_curr*x + b_curr\n",
    "        cost = (1/n)*sum([val**2 for val in (y-y_predicted)])\n",
    "        md = -(2/n)*sum(x*(y-y_predicted))\n",
    "        bd = -(2/n)*sum(y-y_predicted)\n",
    "        m_curr = m_curr - learning_rate*md\n",
    "        b_curr = b_curr - learning_rate*bd\n",
    "        print(\"m= {}, b= {}, cost= {}, iteration= {}\".format(m_curr, b_curr, cost, i))\n",
    "        \n",
    "x= np.array([1,2,3,4,5])\n",
    "y= np.array([5,7,9,11,13])\n",
    "\n",
    "        \n",
    "gradient_descent(x,y)"
   ]
  },
  {
   "cell_type": "code",
   "execution_count": 3,
   "metadata": {},
   "outputs": [
    {
     "data": {
      "text/html": [
       "<div>\n",
       "<style scoped>\n",
       "    .dataframe tbody tr th:only-of-type {\n",
       "        vertical-align: middle;\n",
       "    }\n",
       "\n",
       "    .dataframe tbody tr th {\n",
       "        vertical-align: top;\n",
       "    }\n",
       "\n",
       "    .dataframe thead th {\n",
       "        text-align: right;\n",
       "    }\n",
       "</style>\n",
       "<table border=\"1\" class=\"dataframe\">\n",
       "  <thead>\n",
       "    <tr style=\"text-align: right;\">\n",
       "      <th></th>\n",
       "      <th>name</th>\n",
       "      <th>math_1</th>\n",
       "      <th>cs_1</th>\n",
       "    </tr>\n",
       "  </thead>\n",
       "  <tbody>\n",
       "    <tr>\n",
       "      <th>0</th>\n",
       "      <td>David</td>\n",
       "      <td>92</td>\n",
       "      <td>98</td>\n",
       "    </tr>\n",
       "    <tr>\n",
       "      <th>1</th>\n",
       "      <td>laura</td>\n",
       "      <td>56</td>\n",
       "      <td>68</td>\n",
       "    </tr>\n",
       "    <tr>\n",
       "      <th>2</th>\n",
       "      <td>sanjay</td>\n",
       "      <td>88</td>\n",
       "      <td>81</td>\n",
       "    </tr>\n",
       "    <tr>\n",
       "      <th>3</th>\n",
       "      <td>wei</td>\n",
       "      <td>70</td>\n",
       "      <td>80</td>\n",
       "    </tr>\n",
       "    <tr>\n",
       "      <th>4</th>\n",
       "      <td>jeff</td>\n",
       "      <td>80</td>\n",
       "      <td>83</td>\n",
       "    </tr>\n",
       "    <tr>\n",
       "      <th>5</th>\n",
       "      <td>aamir</td>\n",
       "      <td>49</td>\n",
       "      <td>52</td>\n",
       "    </tr>\n",
       "    <tr>\n",
       "      <th>6</th>\n",
       "      <td>Venkat</td>\n",
       "      <td>65</td>\n",
       "      <td>66</td>\n",
       "    </tr>\n",
       "    <tr>\n",
       "      <th>7</th>\n",
       "      <td>virat</td>\n",
       "      <td>35</td>\n",
       "      <td>30</td>\n",
       "    </tr>\n",
       "    <tr>\n",
       "      <th>8</th>\n",
       "      <td>arthur</td>\n",
       "      <td>66</td>\n",
       "      <td>68</td>\n",
       "    </tr>\n",
       "    <tr>\n",
       "      <th>9</th>\n",
       "      <td>paul</td>\n",
       "      <td>67</td>\n",
       "      <td>73</td>\n",
       "    </tr>\n",
       "  </tbody>\n",
       "</table>\n",
       "</div>"
      ],
      "text/plain": [
       "     name  math_1  cs_1\n",
       "0   David      92    98\n",
       "1   laura      56    68\n",
       "2  sanjay      88    81\n",
       "3     wei      70    80\n",
       "4    jeff      80    83\n",
       "5   aamir      49    52\n",
       "6  Venkat      65    66\n",
       "7   virat      35    30\n",
       "8  arthur      66    68\n",
       "9    paul      67    73"
      ]
     },
     "execution_count": 3,
     "metadata": {},
     "output_type": "execute_result"
    }
   ],
   "source": [
    "ft = pd.read_csv('test_score.csv')\n",
    "ft"
   ]
  },
  {
   "cell_type": "code",
   "execution_count": null,
   "metadata": {},
   "outputs": [],
   "source": [
    "x1 = np.array(ft.math_1)\n",
    "x1"
   ]
  },
  {
   "cell_type": "code",
   "execution_count": null,
   "metadata": {},
   "outputs": [],
   "source": [
    "y1 = np.array(ft.cs_1)\n",
    "y1"
   ]
  },
  {
   "cell_type": "code",
   "execution_count": 19,
   "metadata": {},
   "outputs": [
    {
     "name": "stdout",
     "output_type": "stream",
     "text": [
      "m= 0.9891800000000002, b= 0.013980000000000001, cost= 5199.1, iteration= 0\n",
      "m= 1.0416176032, b= 0.0147417592, cost= 46.3330473650399, iteration= 1\n",
      "m= 1.0443971065873279, b= 0.014802799669408, cost= 31.852649863558305, iteration= 2\n",
      "m= 1.0445441606668626, b= 0.014826693765467417, cost= 31.811952059367805, iteration= 3\n",
      "m= 1.0445516647187705, b= 0.014848618440205038, cost= 31.811832943358482, iteration= 4\n",
      "m= 1.0445517710206773, b= 0.014870438475874223, cost= 31.81182786237329, iteration= 5\n",
      "m= 1.0445514851602624, b= 0.0148922527273428, cost= 31.811823101960222, iteration= 6\n",
      "m= 1.0445511785140886, b= 0.014914066435056226, cost= 31.81181834255699, iteration= 7\n",
      "m= 1.0445508707693771, b= 0.01493587987682099, cost= 31.811813583265543, iteration= 8\n",
      "m= 1.0445505629697767, b= 0.014957693067366749, cost= 31.811808824083364, iteration= 9\n"
     ]
    }
   ],
   "source": [
    "def gradient_descent(x1,y1):\n",
    "    m_curr = b_curr = 0\n",
    "    iteration = 10\n",
    "    n = len(x1)\n",
    "    learning_rate= 0.0001\n",
    "    for i in range(iteration):\n",
    "        y_predicted = m_curr*x1 + b_curr\n",
    "        cost = (1/n)*sum([val**2 for val in (y1-y_predicted)])\n",
    "        md = -(2/n)*sum(x1*(y1-y_predicted))\n",
    "        bd = -(2/n)*sum(y1-y_predicted)\n",
    "        m_curr = m_curr - learning_rate*md\n",
    "        b_curr = b_curr - learning_rate*bd\n",
    "        print(\"m= {}, b= {}, cost= {}, iteration= {}\".format(m_curr, b_curr, cost, i))\n",
    "        \n",
    "x1 = np.array(ft.math_1)\n",
    "y1 = np.array(ft.cs_1)\n",
    "\n",
    "gradient_descent(x1,y1)"
   ]
  },
  {
   "cell_type": "code",
   "execution_count": null,
   "metadata": {},
   "outputs": [],
   "source": []
  }
 ],
 "metadata": {
  "kernelspec": {
   "display_name": "Python 3",
   "language": "python",
   "name": "python3"
  },
  "language_info": {
   "codemirror_mode": {
    "name": "ipython",
    "version": 3
   },
   "file_extension": ".py",
   "mimetype": "text/x-python",
   "name": "python",
   "nbconvert_exporter": "python",
   "pygments_lexer": "ipython3",
   "version": "3.8.5"
  }
 },
 "nbformat": 4,
 "nbformat_minor": 4
}
