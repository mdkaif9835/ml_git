{
 "cells": [
  {
   "cell_type": "code",
   "execution_count": null,
   "metadata": {},
   "outputs": [
    {
     "name": "stdout",
     "output_type": "stream",
     "text": [
      "player 1, please enter your nameKaif\n",
      "player 2, please enter your nameAdiba\n",
      "adbor\n",
      "Kaif  your turn. \n",
      "what is on my mind? board\n",
      "your score is:  1\n",
      "press 1 to continue and 0 to quit: 1\n",
      "rwaet\n",
      "Adiba  your turn. \n",
      "what is on my mind? water\n",
      "your score is:  1\n",
      "press 1 to continue and 0 to quit: 1\n",
      "onrgmirgapm\n",
      "Kaif  your turn. \n",
      "what is on my mind? programming\n",
      "your score is:  2\n",
      "press 1 to continue and 0 to quit: 1\n",
      "reseerv\n",
      "Adiba  your turn. \n",
      "what is on my mind? reserve\n",
      "better luck next time. I thought :  reverse\n"
     ]
    }
   ],
   "source": [
    "import random\n",
    "\n",
    "def choose():\n",
    "    words=['rainbow','computer','science','programming','mathmatics','player','condition','reverse','water','board']\n",
    "    pick=random.choice(words)\n",
    "    return pick\n",
    "\n",
    "def jumble(word):\n",
    "    jumbled=\"\".join(random.sample(word,len(word)))\n",
    "    return jumbled\n",
    "\n",
    "def thank(p1n,p2n,p1,p2):\n",
    "    print(p1n,' your score is : ',p1)\n",
    "    print(p2n,' your score is : ',p2)\n",
    "    print('Thanks for playing')\n",
    "    print('Have a nice day')\n",
    "    \n",
    "def play():\n",
    "    p1name=input('player 1, please enter your name')\n",
    "    p2name=input('player 2, please enter your name')\n",
    "    pp1=0\n",
    "    pp2=0\n",
    "    turn=0\n",
    "    while(1):\n",
    "        #computer's task\n",
    "        picked_word=choose()\n",
    "        #create question\n",
    "        qn=jumble(picked_word)\n",
    "        print(qn)\n",
    "        #player 1\n",
    "        if turn%2==0:\n",
    "            print(p1name,' your turn. ')\n",
    "            ans=input('what is on my mind? ')\n",
    "            if ans==picked_word:\n",
    "                pp1=pp1+1\n",
    "                print('your score is: ',pp1)\n",
    "            else:\n",
    "                print('better luck next time. I thought : ',picked_word)\n",
    "            c=input('press 1 to continue and 0 to quit: ')\n",
    "            if c==0:\n",
    "                thank(p1name,p2name,pp1,pp2)\n",
    "                break\n",
    "        #Player 2\n",
    "        else:\n",
    "            print(p2name,' your turn. ')\n",
    "            ans=input('what is on my mind? ')\n",
    "            if ans==picked_word:\n",
    "                pp2=pp2+1\n",
    "                print('your score is: ',pp2)\n",
    "            else:\n",
    "                print('better luck next time. I thought : ',picked_word)\n",
    "            c=input('press 1 to continue and 0 to quit: ')\n",
    "            if c==0:\n",
    "                thank(p1name,p2name,pp1,pp2)\n",
    "                break\n",
    "        turn=turn+1\n",
    "play()\n",
    "        "
   ]
  },
  {
   "cell_type": "code",
   "execution_count": null,
   "metadata": {},
   "outputs": [],
   "source": []
  }
 ],
 "metadata": {
  "kernelspec": {
   "display_name": "Python 3",
   "language": "python",
   "name": "python3"
  },
  "language_info": {
   "codemirror_mode": {
    "name": "ipython",
    "version": 3
   },
   "file_extension": ".py",
   "mimetype": "text/x-python",
   "name": "python",
   "nbconvert_exporter": "python",
   "pygments_lexer": "ipython3",
   "version": "3.8.5"
  }
 },
 "nbformat": 4,
 "nbformat_minor": 4
}
