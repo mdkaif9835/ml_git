{
 "cells": [
  {
   "cell_type": "code",
   "execution_count": 17,
   "metadata": {},
   "outputs": [
    {
     "name": "stdout",
     "output_type": "stream",
     "text": [
      "mean=7.50, std=1.94, r=0.82\n",
      "mean=7.50, std=1.94, r=0.82\n",
      "mean=7.50, std=1.94, r=0.82\n",
      "mean=7.45, std=1.93, r=0.83\n"
     ]
    },
    {
     "data": {
      "image/png": "[encoded data removed]",
      "text/plain": [
       "<Figure size 432x288 with 4 Axes>"
      ]
     },
     "metadata": {
      "needs_background": "light"
     },
     "output_type": "display_data"
    }
   ],
   "source": [
    "import matplotlib.pyplot as plt\n",
    "import numpy as np\n",
    "\n",
    "x1 = np.array([10, 8, 13, 9, 11, 14, 6, 4, 12, 7, 5])\n",
    "y1 = np.array([8.04, 6.95, 7.58, 8.81, 8.33, 9.96, 7.24, 4.26, 10.84, 4.82, 5.68])\n",
    "y2 = np.array([9.14, 8.14, 8.74, 8.77, 9.26, 8.10, 6.13, 3.10, 9.13, 7.26, 4.740])\n",
    "y3 = np.array([7.46, 6.77, 12.74, 7.11, 7.81, 8.84, 6.06, 5.39, 8.15, 6.42, 5.73])\n",
    "x4 = np.array([8, 8, 8, 8, 8, 8, 8, 19, 8, 8, 8])\n",
    "y4 = np.array([6.58, 5.76, 7.21, 8.84, 8.42, 7.04, 5.25, 12.50, 5.56, 7.91, 6.89])\n",
    "\n",
    "def fit(x1):\n",
    "    return 3 + 0.5 * x1\n",
    "\n",
    "xfit = np.array([np.min(x1), np.max(x1)])\n",
    "\n",
    "plt.subplot(221)\n",
    "plt.plot(x1, y1,'ks', xfit, fit(xfit), 'r--', lw=2)\n",
    "plt.axis([2, 20, 2, 14])\n",
    "plt.setp(plt.gca(),xticklabels=[], yticks=(4, 8, 12), xticks=(0, 10, 20))\n",
    "plt.text(4, 12, 'I', fontsize= 20)\n",
    "\n",
    "plt.subplot(222)\n",
    "plt.plot(x1, y2, 'ks',xfit,fit(xfit), 'g--', lw=2)\n",
    "plt.axis([2, 20, 2, 14])\n",
    "plt.setp(plt.gca(), xticklabels=[], yticks=(4, 8, 12), yticklabels= [], xticks=(0, 10, 20))\n",
    "plt.text(3, 12, 'II', fontsize= 20)\n",
    "\n",
    "plt.subplot(223)\n",
    "plt.plot(x1, y3, 'ks',xfit,fit(xfit), 'r--', lw=2)\n",
    "plt.axis([2, 20, 2, 14])\n",
    "plt.setp(plt.gca(), yticks=(4, 8, 12), xticks=(0, 10, 20))\n",
    "plt.text(3, 12, 'III', fontsize= 20)\n",
    "\n",
    "plt.subplot(224)\n",
    "xfit= np.array([np.min(x4), np.max(y4)])\n",
    "plt.plot(x4, y4, 'ks',xfit,fit(xfit), 'r--', lw=2)\n",
    "plt.axis([2, 20, 2, 14])\n",
    "plt.setp(plt.gca(), yticklabels= [], yticks=(4, 8, 12), xticks=(0, 10, 20))\n",
    "plt.text(3, 12, 'IV', fontsize= 20)\n",
    "\n",
    "pairs =  (x1, y1), (x1, y2), (x1, y3), (x4, y4)\n",
    "for x, y in pairs:\n",
    "    print('mean=%1.2f, std=%1.2f, r=%1.2f' % (np.mean(y), np.std(y), np.corrcoef(x, y)[0][1]))"
   ]
  },
  {
   "cell_type": "code",
   "execution_count": null,
   "metadata": {},
   "outputs": [],
   "source": []
  }
 ],
 "metadata": {
  "kernelspec": {
   "display_name": "Python 3",
   "language": "python",
   "name": "python3"
  },
  "language_info": {
   "codemirror_mode": {
    "name": "ipython",
    "version": 3
   },
   "file_extension": ".py",
   "mimetype": "text/x-python",
   "name": "python",
   "nbconvert_exporter": "python",
   "pygments_lexer": "ipython3",
   "version": "3.8.5"
  }
 },
 "nbformat": 4,
 "nbformat_minor": 4
}
